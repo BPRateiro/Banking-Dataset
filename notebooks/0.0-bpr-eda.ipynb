{
 "cells": [
  {
   "cell_type": "markdown",
   "metadata": {},
   "source": [
    "# Banking Dataset - Análise exploratória\n",
    "\n",
    "Este notebook focará na análise exploratória dos dados relacionados às campanhas de marketing direto (chamadas telefônicas) de uma instituição bancária portuguesa.\n",
    "\n",
    "Nas seções seguintes, exploraremos os dados disponíveis, realizaremos a limpeza e o pré-processamento necessários e, finalmente, analisaremos diversas características dos clientes para identificar padrões e insights que possam auxiliar na otimização das campanhas de telemarketing.\n",
    "\n",
    "A fonte dos dados é [_Banking Dataset - Marketing Targets_](https://www.kaggle.com/datasets/prakharrathi25/banking-dataset-marketing-targets) do Kaggle.\n",
    "\n",
    "# Índice\n",
    "\n",
    "- [1.0 Dicionário de dados](#1_0)\n",
    "- [1.1 Configurações e bibliotecas](#1_1)\n",
    "\n",
    "# <a id='1_0'></a> 1.1 Dicionário de dados\n",
    "\n",
    "| Variável  | Descrição                                                | Tipo de Variável                |\n",
    "|-----------|----------------------------------------------------------|---------------------------------|\n",
    "| age       | Idade do cliente.                                        | Numérica Discreta               |\n",
    "| job       | Tipo de trabalho do cliente.                              | Categórica Nominal              |\n",
    "| marital   | Estado civil do cliente.                                  | Categórica Nominal              |\n",
    "| education | Nível de educação do cliente.                             | Categórica Ordinal              |\n",
    "| default   | Cliente tem crédito em default.                           | Categórica Nominal              |\n",
    "| balance   | Saldo anual médio, em euros.                              | Numérica Contínua               |\n",
    "| housing   | Cliente tem empréstimo imobiliário.                       | Categórica Nominal              |\n",
    "| loan      | Cliente tem empréstimo pessoal.                           | Categórica Nominal              |\n",
    "| contact   | Tipo de comunicação de contato.                           | Categórica Nominal              |\n",
    "| day       | Dia do último contato.                                    | Numérica Discreta               |\n",
    "| month     | Mês do último contato.                                    | Categórica Nominal              |\n",
    "| duration  | Duração do último contato, em segundos.                   | Numérica Contínua               |\n",
    "| campaign  | Número de contatos realizados durante esta campanha.      | Numérica Discreta               |\n",
    "| pdays     | Dias desde o último contato de uma campanha anterior.     | Numérica Discreta               |\n",
    "| previous  | Número de contatos realizados antes desta campanha.       | Numérica Discreta               |\n",
    "| poutcome  | Resultado da campanha de marketing anterior.              | Categórica Nominal              |\n",
    "| y         | Cliente subscreveu um depósito a prazo.                   | Categórica Nominal              |\n",
    "\n",
    "\n",
    "# <a id='1_1'></a> 1.2 Configurações e bibliotecas"
   ]
  },
  {
   "cell_type": "code",
   "execution_count": 1,
   "metadata": {},
   "outputs": [],
   "source": [
    "import pandas as pd\n",
    "import seaborn as sns\n",
    "import matplotlib.pyplot as plt"
   ]
  }
 ],
 "metadata": {
  "kernelspec": {
   "display_name": ".venv",
   "language": "python",
   "name": "python3"
  },
  "language_info": {
   "codemirror_mode": {
    "name": "ipython",
    "version": 3
   },
   "file_extension": ".py",
   "mimetype": "text/x-python",
   "name": "python",
   "nbconvert_exporter": "python",
   "pygments_lexer": "ipython3",
   "version": "3.11.2"
  }
 },
 "nbformat": 4,
 "nbformat_minor": 2
}
