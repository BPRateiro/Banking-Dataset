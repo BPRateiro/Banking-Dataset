{
 "cells": [
  {
   "cell_type": "markdown",
   "metadata": {},
   "source": [
    "# Banking Dataset - Análise exploratória\n",
    "\n",
    "Os depósitos a prazo representam uma importante fonte de receita para os bancos. Trata-se de um investimento em dinheiro retido em uma instituição financeira, onde o montante é investido por um período fixo, a uma taxa de juros previamente acordada. Para maximizar a captação desses depósitos, os bancos implementam diversas estratégias de marketing direto, incluindo marketing por e-mail, publicidade, telemarketing e marketing digital.\n",
    "\n",
    "Dentre essas estratégias, o telemarketing continua sendo um dos métodos mais eficazes para alcançar os clientes. No entanto, essa abordagem exige um grande investimento, pois grandes centrais de atendimento são contratadas para executar essas campanhas. Portanto, é crucial identificar previamente os clientes com maior probabilidade de conversão, de modo que possam ser especificamente alvo dessas campanhas.\n",
    "\n",
    "Este notebook focará na análise exploratória dos dados relacionados às campanhas de marketing direto (chamadas telefônicas) de uma instituição bancária portuguesa.\n",
    "\n",
    "Nas seções seguintes, exploraremos os dados disponíveis, realizaremos a limpeza e o pré-processamento necessários e, finalmente, analisaremos diversas características dos clientes para identificar padrões que impactam a chance de um cliente efetuar o depósito, mensurado pela nossa variável resposta _y_. \n",
    "\n",
    "A fonte dos dados é [_Banking Dataset - Marketing Targets_](https://www.kaggle.com/datasets/prakharrathi25/banking-dataset-marketing-targets) do Kaggle.\n",
    "\n",
    "# Índice\n",
    "\n",
    "- [1.0 Dicionário de dados](#1_0)\n",
    "- [1.1 Configurações e bibliotecas](#1_1)\n",
    "\n",
    "# <a id='1_0'></a> 1.1 Dicionário de dados\n",
    "\n",
    "| Variável  | Tipo de Variável   | Descrição                                                |\n",
    "|-----------|--------------------|----------------------------------------------------------|\n",
    "| age       | Numérica Discreta  | Idade do cliente.                                        |\n",
    "| job       | Categórica Nominal | Tipo de trabalho do cliente.                             |\n",
    "| marital   | Categórica Nominal | Estado civil do cliente.                                 |\n",
    "| education | Categórica Ordinal | Nível de educação do cliente.                            |\n",
    "| default   | Categórica Nominal | Cliente tem crédito em default.                          |\n",
    "| balance   | Numérica Contínua  | Saldo anual médio, em euros.                             |\n",
    "| housing   | Categórica Nominal | Cliente tem empréstimo imobiliário.                      |\n",
    "| loan      | Categórica Nominal | Cliente tem empréstimo pessoal.                          |\n",
    "| contact   | Categórica Nominal | Tipo de comunicação de contato.                          |\n",
    "| day       | Categórica Ordinal | Dia do último contato.                                   |\n",
    "| month     | Categórica Ordinal | Mês do último contato.                                   |\n",
    "| duration  | Numérica Contínua  | Duração do último contato, em segundos.                  |\n",
    "| campaign  | Numérica Discreta  | Número de contatos realizados durante esta campanha.     |\n",
    "| pdays     | Numérica Discreta  | Dias desde o último contato de uma campanha anterior.    |\n",
    "| previous  | Numérica Discreta  | Número de contatos realizados antes desta campanha.      |\n",
    "| poutcome  | Categórica Nominal | Resultado da campanha de marketing anterior.             |\n",
    "| y         | Categórica Nominal | Cliente fez um depósito dentro do prazo.                 |\n",
    "\n",
    "\n",
    "# <a id='1_1'></a> 1.2 Configurações e bibliotecas"
   ]
  },
  {
   "cell_type": "code",
   "execution_count": 1,
   "metadata": {},
   "outputs": [],
   "source": [
    "import pandas as pd\n",
    "import seaborn as sns\n",
    "import matplotlib.pyplot as plt"
   ]
  }
 ],
 "metadata": {
  "kernelspec": {
   "display_name": ".venv",
   "language": "python",
   "name": "python3"
  },
  "language_info": {
   "codemirror_mode": {
    "name": "ipython",
    "version": 3
   },
   "file_extension": ".py",
   "mimetype": "text/x-python",
   "name": "python",
   "nbconvert_exporter": "python",
   "pygments_lexer": "ipython3",
   "version": "3.11.2"
  }
 },
 "nbformat": 4,
 "nbformat_minor": 2
}
